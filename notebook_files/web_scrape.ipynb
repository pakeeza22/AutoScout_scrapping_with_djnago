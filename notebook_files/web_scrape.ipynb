{
 "cells": [
  {
   "cell_type": "code",
   "execution_count": 8,
   "metadata": {},
   "outputs": [],
   "source": [
    "import numpy as np\n",
    "import os\n",
    "import selenium\n",
    "from selenium import webdriver\n",
    "import time\n",
    "from PIL import Image\n",
    "import io\n",
    "import requests\n",
    "from webdriver_manager.chrome import ChromeDriverManager\n",
    "from selenium.common.exceptions import ElementClickInterceptedException\n",
    "from selenium.webdriver.support.ui import WebDriverWait\n",
    "from selenium.webdriver.support import expected_conditions as EC\n",
    "from selenium.webdriver.common.by import By"
   ]
  },
  {
   "cell_type": "code",
   "execution_count": 9,
   "metadata": {},
   "outputs": [
    {
     "name": "stderr",
     "output_type": "stream",
     "text": [
      "/tmp/ipykernel_5928/218827665.py:1: DeprecationWarning: executable_path has been deprecated, please pass in a Service object\n",
      "  driver = webdriver.Chrome(ChromeDriverManager().install())\n"
     ]
    },
    {
     "name": "stdout",
     "output_type": "stream",
     "text": [
      "Number of scraped images:  ['Mein AutoScout24\\nAnmelden/Registrieren', \"CHF 32'900.-\\n2022 / 10'500 Km\", \"CHF 32'900.-\", \"2022 / 10'500 Km\", '', \"CHF 44'890.-\\nNeu / 05 Km\", \"CHF 44'890.-\", 'Neu / 05 Km', '', \"CHF 17'990.-\\n2019 / 29'500 Km\", \"CHF 17'990.-\", \"2019 / 29'500 Km\", '', \"CHF 257'000.-\\nNeu / 10 Km\", \"CHF 257'000.-\", 'Neu / 10 Km', '', \"CHF 47'900.-\\n2021 / 27'265 Km\", \"CHF 47'900.-\", \"2021 / 27'265 Km\", '', \"CHF 51'500.-\\n2022 / 6'200 Km\", \"CHF 51'500.-\", \"2022 / 6'200 Km\", '']\n",
      "Number of scraped images:  ['Mein AutoScout24\\nAnmelden/Registrieren', \"CHF 32'900.-\\n2022 / 10'500 Km\", \"CHF 32'900.-\", \"2022 / 10'500 Km\", '', \"CHF 44'890.-\\nNeu / 05 Km\", \"CHF 44'890.-\", 'Neu / 05 Km', '', \"CHF 22'500.-\\n2020 / 11'000 Km\", \"CHF 22'500.-\", \"2020 / 11'000 Km\", '', \"CHF 47'900.-\\n2021 / 27'265 Km\", \"CHF 47'900.-\", \"2021 / 27'265 Km\", '', \"CHF 257'000.-\\nNeu / 10 Km\", \"CHF 257'000.-\", 'Neu / 10 Km', '', \"CHF 51'500.-\\n2022 / 6'200 Km\", \"CHF 51'500.-\", \"2022 / 6'200 Km\", '']\n",
      "Number of scraped images:  ['Mein AutoScout24\\nAnmelden/Registrieren', \"CHF 29'500.-\\n2019 / 50'500 Km\", \"CHF 29'500.-\", \"2019 / 50'500 Km\", '', \"CHF 44'890.-\\nNeu / 05 Km\", \"CHF 44'890.-\", 'Neu / 05 Km', '', \"CHF 32'900.-\\n2022 / 10'500 Km\", \"CHF 32'900.-\", \"2022 / 10'500 Km\", '', \"CHF 47'900.-\\n2021 / 27'265 Km\", \"CHF 47'900.-\", \"2021 / 27'265 Km\", '', \"CHF 51'500.-\\n2022 / 6'200 Km\", \"CHF 51'500.-\", \"2022 / 6'200 Km\", '', \"CHF 257'000.-\\nNeu / 10 Km\", \"CHF 257'000.-\", 'Neu / 10 Km', '']\n",
      "Number of scraped images:  ['Mein AutoScout24\\nAnmelden/Registrieren', \"CHF 44'890.-\\nNeu / 05 Km\", \"CHF 44'890.-\", 'Neu / 05 Km', '', \"CHF 32'900.-\\n2022 / 10'500 Km\", \"CHF 32'900.-\", \"2022 / 10'500 Km\", '', \"CHF 22'500.-\\n2020 / 11'000 Km\", \"CHF 22'500.-\", \"2020 / 11'000 Km\", '', \"CHF 257'000.-\\nNeu / 10 Km\", \"CHF 257'000.-\", 'Neu / 10 Km', '', \"CHF 47'900.-\\n2021 / 27'265 Km\", \"CHF 47'900.-\", \"2021 / 27'265 Km\", '', \"CHF 51'500.-\\n2022 / 6'200 Km\", \"CHF 51'500.-\", \"2022 / 6'200 Km\", '']\n"
     ]
    }
   ],
   "source": [
    "driver = webdriver.Chrome(ChromeDriverManager().install())\n",
    "all_data = []\n",
    "for year in yearfrom:\n",
    "    for price in priceto:\n",
    "        search_url=f\"https://www.autoscout24.ch/de/?yearfrom={year}&priceto={price}vehtyp=10\" \n",
    "                \n",
    "        driver.get(search_url.format())\n",
    "        driver.execute_script(\"window.scrollTo(0, document.body.scrollHeight);\")\n",
    "        time.sleep(5)\n",
    "\n",
    "\n",
    "        element = WebDriverWait(driver, 20).until(EC.visibility_of_element_located((By.CSS_SELECTOR, \"#analytics-intersect-observer-6\")))\n",
    "        driver.execute_script(\"return arguments[0].outerHTML;\", element)\n",
    "\n",
    "        images = driver.find_elements(by=By.CLASS_NAME, value=\"text-white\")\n",
    "        models = driver.find_elements(by=By.TAG_NAME, value=\"img\")\n",
    "\n",
    "            \n",
    "        images = [image.text for image in images]\n",
    "\n",
    "\n",
    "        all_data.append(images)\n",
    "        print('Number of scraped images: ', images)"
   ]
  },
  {
   "cell_type": "code",
   "execution_count": 76,
   "metadata": {},
   "outputs": [],
   "source": [
    "# yearfrom = [1930, 1940, 1950, 1960, 1970, 1975, 1980, 1981, 1982,\n",
    "#             1983, 1984, 1985, 1986, 1987, 1988, 1989, 1990, 1991, 1992, 1993, 1994,\n",
    "#             1995, 1996, 1997, 1998, 1999, 2000\n",
    "# ]\n",
    "# priceto = [1000, 2000, 3000, 4000, 5000, 7500, 10000, 12500, 15000,\n",
    "#             17500, 20000, 22500, 25000, 30000, 40000, 45000, 50000,\n",
    "#             60000, 70000, 80000, 90000, 100000, 150000, 200000, 300000]"
   ]
  },
  {
   "cell_type": "code",
   "execution_count": null,
   "metadata": {},
   "outputs": [],
   "source": [
    "#Specify Search URL \n",
    "all_data = []\n",
    "for price in priceto:\n",
    "    for year in yearfrom:\n",
    "        search_url=f\"https://www.autoscout24.ch/de/?yearfrom={year}&priceto={price}vehtyp=10\" \n",
    "        \n",
    "        driver.get(search_url.format())\n",
    "        driver.execute_script(\"window.scrollTo(0, document.body.scrollHeight);\")\n",
    "        time.sleep(5)\n",
    "        \n",
    "\n",
    "        print(driver)\n",
    "\n",
    "print(len(all_data))"
   ]
  },
  {
   "cell_type": "code",
   "execution_count": 52,
   "metadata": {},
   "outputs": [],
   "source": [
    "#Scroll to the end of the page\n",
    "driver.execute_script(\"window.scrollTo(0, document.body.scrollHeight);\")\n",
    "time.sleep(5)#sleep_between_interactions"
   ]
  },
  {
   "cell_type": "code",
   "execution_count": 82,
   "metadata": {},
   "outputs": [
    {
     "data": {
      "text/plain": [
       "selenium.webdriver.remote.webelement.WebElement"
      ]
     },
     "execution_count": 82,
     "metadata": {},
     "output_type": "execute_result"
    }
   ],
   "source": [
    "#Locate the images to be scraped from the current page \n",
    "\n",
    "imgResults = driver.find_element(\"xpath\", \"//*[@id='app']/div/main/section/div[2]/div/div/div/section[1]\")\n",
    "type(imgResults)\n",
    "# totalResults=len(imgResults)"
   ]
  },
  {
   "cell_type": "code",
   "execution_count": 83,
   "metadata": {},
   "outputs": [
    {
     "data": {
      "text/plain": [
       "'<div shownin=\"300\" data-pixel-id=\"99\" data-pixel-payload=\"{&quot;tvs&quot;:4,&quot;tvehids&quot;:&quot;9966855&quot;,&quot;ip&quot;:&quot;202.166.170.107&quot;}\" data-split-treatment-server-based=\"false\" data-split-triggers=\"shown\" data-analytics-manager=\"\" id=\"analytics-intersect-observer-6\"><a class=\"py-1 d-block text-center border-0 mh-100\" href=\"http://www.ib-automobile.ch\" target=\"_blank\" rel=\"nofollow noopener noreferrer\" data-gtm-id=\"117\" data-gtm-payload=\"{&quot;eventLabel&quot;:&quot;http://www.ib-automobile.ch&quot;,&quot;eventCategory&quot;:&quot;www_Interaction_PI-TopCar&quot;}\" data-split-treatment-server-based=\"false\" data-split-triggers=\"click\" data-analytics-manager=\"\" shownin=\"300\"><img class=\"lazy-image topcars-card-logo is-loading\" alt=\"http://www.ib-automobile.ch\" data-root-margin=\"0px 0px 0px 0px\"></a><div class=\"overlay-container position-relative\"><div class=\"ratio ratio-4x3 overlay-container-wrapper\"><div class=\"ratio-body\"><img class=\"lazy-image  is-loading\" alt=\"BMW X3 M40d Individual 4x4\" data-root-margin=\"0px 0px 0px 0px\"></div></div><a class=\"base-nav-link topcars-card-overlay d-flex flex-column px-3 pt-1 no-underline text-white\" data-gtm-id=\"117\" data-gtm-payload=\"{&quot;eventAction&quot;:&quot;Click_TopCar&quot;,&quot;eventLabel&quot;:&quot;listingId: 9966855 # slotId: 4 # itemPosition: 0 # alghorithm: topcar&quot;,&quot;eventCategory&quot;:&quot;www_Interaction_PI-TopCar&quot;}\" data-pixel-id=\"1\" data-split-id=\"1\" data-pixel-payload=\"{&quot;vehid&quot;:&quot;9966855&quot;,&quot;placement&quot;:1,&quot;slot&quot;:4}\" data-split-payload=\"{&quot;eventTypeId&quot;:&quot;Click_TopCar&quot;,&quot;trafficTypeName&quot;:&quot;user&quot;,&quot;timestamp&quot;:1666803721493,&quot;value&quot;:1}\" data-split-treatment-server-based=\"false\" data-split-triggers=\"click\" data-analytics-manager=\"\" href=\"/de/d/bmw-x3-suv--gelaendewagen-2020-occasion?yearfrom=2007&amp;priceto=1000vehtyp%3D10&amp;backurl=%2F%3Fyearfrom%3D2007%26priceto%3D1000vehtyp%253D10&amp;topcar=true&amp;vehid=9966855\"><div class=\"font-weight-bold text-white\">CHF 65\\'900.-</div><div class=\"mt-2 text-white\">2020 / 40\\'048 Km</div><div class=\"text-white\">BMW X3 M40d Individual 4x4</div></a></div></div>'"
      ]
     },
     "execution_count": 83,
     "metadata": {},
     "output_type": "execute_result"
    }
   ],
   "source": [
    "element = WebDriverWait(driver, 100).until(EC.visibility_of_element_located((By.CSS_SELECTOR, \"#analytics-intersect-observer-6\")))\n",
    "driver.execute_script(\"return arguments[0].outerHTML;\", element)"
   ]
  },
  {
   "cell_type": "code",
   "execution_count": 84,
   "metadata": {},
   "outputs": [
    {
     "name": "stdout",
     "output_type": "stream",
     "text": [
      "Number of scraped images:  25\n",
      "Number of scraped images:  ['Mein AutoScout24\\nAnmelden/Registrieren', \"CHF 65'900.-\\n2020 / 40'048 Km\", \"CHF 65'900.-\", \"2020 / 40'048 Km\", '', \"CHF 54'890.-\\n2019 / 90'200 Km\", \"CHF 54'890.-\", \"2019 / 90'200 Km\", '', \"CHF 56'500.-\\n2022 / 17'700 Km\", \"CHF 56'500.-\", \"2022 / 17'700 Km\", '', \"CHF 63'490.-\\n2018 / 38'400 Km\", \"CHF 63'490.-\", \"2018 / 38'400 Km\", '', \"CHF 52'500.-\\n2021 / 17'300 Km\", \"CHF 52'500.-\", \"2021 / 17'300 Km\", '', \"CHF 74'900.-\\n2022 / 9'700 Km\", \"CHF 74'900.-\", \"2022 / 9'700 Km\", '']\n"
     ]
    }
   ],
   "source": [
    "images = driver.find_elements(by=By.CLASS_NAME, value=\"text-white\")\n",
    "# models = driver.find_elements(by=By.TAG_NAME, value=\"img\")\n",
    "\n",
    "    \n",
    "images = [image.text for image in images]\n",
    "\n",
    "\n",
    "print('Number of scraped images: ', len(images))\n",
    "print('Number of scraped images: ', images)"
   ]
  },
  {
   "cell_type": "markdown",
   "metadata": {},
   "source": []
  },
  {
   "cell_type": "code",
   "execution_count": 4,
   "metadata": {},
   "outputs": [],
   "source": [
    "yearfrom = [1930, 1940]\n",
    "priceto = [1000, 15000]"
   ]
  },
  {
   "cell_type": "code",
   "execution_count": 6,
   "metadata": {},
   "outputs": [
    {
     "name": "stdout",
     "output_type": "stream",
     "text": [
      "Number of scraped images:  ['Mein AutoScout24\\nAnmelden/Registrieren', \"CHF 46'900.-\\n2020 / 38'659 Km\", \"CHF 46'900.-\", \"2020 / 38'659 Km\", '', \"CHF 42'500.-\\n2021 / 6'500 Km\", \"CHF 42'500.-\", \"2021 / 6'500 Km\", '', \"CHF 39'900.-\\n2020 / 44'600 Km\", \"CHF 39'900.-\", \"2020 / 44'600 Km\", '', \"CHF 44'890.-\\n2019 / 18'100 Km\", \"CHF 44'890.-\", \"2019 / 18'100 Km\", '', \"CHF 39'990.-\\n2020 / 48'800 Km\", \"CHF 39'990.-\", \"2020 / 48'800 Km\", '', \"CHF 74'900.-\\n2022 / 9'700 Km\", \"CHF 74'900.-\", \"2022 / 9'700 Km\", '']\n",
      "Number of scraped images:  ['Mein AutoScout24\\nAnmelden/Registrieren', \"CHF 44'890.-\\n2019 / 18'100 Km\", \"CHF 44'890.-\", \"2019 / 18'100 Km\", '', \"CHF 42'500.-\\n2021 / 6'500 Km\", \"CHF 42'500.-\", \"2021 / 6'500 Km\", '', \"CHF 46'900.-\\n2020 / 38'659 Km\", \"CHF 46'900.-\", \"2020 / 38'659 Km\", '', \"CHF 39'900.-\\n2020 / 44'600 Km\", \"CHF 39'900.-\", \"2020 / 44'600 Km\", '', \"CHF 44'750.-\\n2021 / 13'900 Km\", \"CHF 44'750.-\", \"2021 / 13'900 Km\", '', \"CHF 74'900.-\\n2022 / 9'700 Km\", \"CHF 74'900.-\", \"2022 / 9'700 Km\", '']\n",
      "Number of scraped images:  ['Mein AutoScout24\\nAnmelden/Registrieren', \"CHF 39'900.-\\n2020 / 44'600 Km\", \"CHF 39'900.-\", \"2020 / 44'600 Km\", '', \"CHF 31'290.-\\n2019 / 50'300 Km\", \"CHF 31'290.-\", \"2019 / 50'300 Km\", '', \"CHF 42'500.-\\n2021 / 6'500 Km\", \"CHF 42'500.-\", \"2021 / 6'500 Km\", '', \"CHF 46'900.-\\n2020 / 38'659 Km\", \"CHF 46'900.-\", \"2020 / 38'659 Km\", '', \"CHF 44'890.-\\n2019 / 18'100 Km\", \"CHF 44'890.-\", \"2019 / 18'100 Km\", '', \"CHF 74'900.-\\n2022 / 9'700 Km\", \"CHF 74'900.-\", \"2022 / 9'700 Km\", '']\n",
      "Number of scraped images:  ['Mein AutoScout24\\nAnmelden/Registrieren', \"CHF 31'400.-\\n2019 / 84'000 Km\", \"CHF 31'400.-\", \"2019 / 84'000 Km\", '', \"CHF 46'900.-\\n2020 / 38'659 Km\", \"CHF 46'900.-\", \"2020 / 38'659 Km\", '', \"CHF 39'900.-\\n2020 / 44'600 Km\", \"CHF 39'900.-\", \"2020 / 44'600 Km\", '', \"CHF 42'500.-\\n2021 / 6'500 Km\", \"CHF 42'500.-\", \"2021 / 6'500 Km\", '', \"CHF 44'890.-\\n2019 / 18'100 Km\", \"CHF 44'890.-\", \"2019 / 18'100 Km\", '', \"CHF 74'900.-\\n2022 / 9'700 Km\", \"CHF 74'900.-\", \"2022 / 9'700 Km\", '']\n"
     ]
    }
   ],
   "source": [
    "all_data = []\n",
    "for year in yearfrom:\n",
    "    for price in priceto:\n",
    "        search_url=f\"https://www.autoscout24.ch/de/?yearfrom={year}&priceto={price}vehtyp=10\" \n",
    "                \n",
    "        driver.get(search_url.format())\n",
    "        driver.execute_script(\"window.scrollTo(0, document.body.scrollHeight);\")\n",
    "        time.sleep(5)\n",
    "\n",
    "\n",
    "        element = WebDriverWait(driver, 20).until(EC.visibility_of_element_located((By.CSS_SELECTOR, \"#analytics-intersect-observer-6\")))\n",
    "        driver.execute_script(\"return arguments[0].outerHTML;\", element)\n",
    "\n",
    "        images = driver.find_elements(by=By.CLASS_NAME, value=\"text-white\")\n",
    "        models = driver.find_elements(by=By.TAG_NAME, value=\"img\")\n",
    "\n",
    "            \n",
    "        images = [image.text for image in images]\n",
    "\n",
    "\n",
    "        all_data.append(images)\n",
    "        print('Number of scraped images: ', images)"
   ]
  },
  {
   "cell_type": "code",
   "execution_count": 7,
   "metadata": {},
   "outputs": [
    {
     "data": {
      "text/plain": [
       "[['Mein AutoScout24\\nAnmelden/Registrieren',\n",
       "  \"CHF 46'900.-\\n2020 / 38'659 Km\",\n",
       "  \"CHF 46'900.-\",\n",
       "  \"2020 / 38'659 Km\",\n",
       "  '',\n",
       "  \"CHF 42'500.-\\n2021 / 6'500 Km\",\n",
       "  \"CHF 42'500.-\",\n",
       "  \"2021 / 6'500 Km\",\n",
       "  '',\n",
       "  \"CHF 39'900.-\\n2020 / 44'600 Km\",\n",
       "  \"CHF 39'900.-\",\n",
       "  \"2020 / 44'600 Km\",\n",
       "  '',\n",
       "  \"CHF 44'890.-\\n2019 / 18'100 Km\",\n",
       "  \"CHF 44'890.-\",\n",
       "  \"2019 / 18'100 Km\",\n",
       "  '',\n",
       "  \"CHF 39'990.-\\n2020 / 48'800 Km\",\n",
       "  \"CHF 39'990.-\",\n",
       "  \"2020 / 48'800 Km\",\n",
       "  '',\n",
       "  \"CHF 74'900.-\\n2022 / 9'700 Km\",\n",
       "  \"CHF 74'900.-\",\n",
       "  \"2022 / 9'700 Km\",\n",
       "  ''],\n",
       " ['Mein AutoScout24\\nAnmelden/Registrieren',\n",
       "  \"CHF 44'890.-\\n2019 / 18'100 Km\",\n",
       "  \"CHF 44'890.-\",\n",
       "  \"2019 / 18'100 Km\",\n",
       "  '',\n",
       "  \"CHF 42'500.-\\n2021 / 6'500 Km\",\n",
       "  \"CHF 42'500.-\",\n",
       "  \"2021 / 6'500 Km\",\n",
       "  '',\n",
       "  \"CHF 46'900.-\\n2020 / 38'659 Km\",\n",
       "  \"CHF 46'900.-\",\n",
       "  \"2020 / 38'659 Km\",\n",
       "  '',\n",
       "  \"CHF 39'900.-\\n2020 / 44'600 Km\",\n",
       "  \"CHF 39'900.-\",\n",
       "  \"2020 / 44'600 Km\",\n",
       "  '',\n",
       "  \"CHF 44'750.-\\n2021 / 13'900 Km\",\n",
       "  \"CHF 44'750.-\",\n",
       "  \"2021 / 13'900 Km\",\n",
       "  '',\n",
       "  \"CHF 74'900.-\\n2022 / 9'700 Km\",\n",
       "  \"CHF 74'900.-\",\n",
       "  \"2022 / 9'700 Km\",\n",
       "  ''],\n",
       " ['Mein AutoScout24\\nAnmelden/Registrieren',\n",
       "  \"CHF 39'900.-\\n2020 / 44'600 Km\",\n",
       "  \"CHF 39'900.-\",\n",
       "  \"2020 / 44'600 Km\",\n",
       "  '',\n",
       "  \"CHF 31'290.-\\n2019 / 50'300 Km\",\n",
       "  \"CHF 31'290.-\",\n",
       "  \"2019 / 50'300 Km\",\n",
       "  '',\n",
       "  \"CHF 42'500.-\\n2021 / 6'500 Km\",\n",
       "  \"CHF 42'500.-\",\n",
       "  \"2021 / 6'500 Km\",\n",
       "  '',\n",
       "  \"CHF 46'900.-\\n2020 / 38'659 Km\",\n",
       "  \"CHF 46'900.-\",\n",
       "  \"2020 / 38'659 Km\",\n",
       "  '',\n",
       "  \"CHF 44'890.-\\n2019 / 18'100 Km\",\n",
       "  \"CHF 44'890.-\",\n",
       "  \"2019 / 18'100 Km\",\n",
       "  '',\n",
       "  \"CHF 74'900.-\\n2022 / 9'700 Km\",\n",
       "  \"CHF 74'900.-\",\n",
       "  \"2022 / 9'700 Km\",\n",
       "  ''],\n",
       " ['Mein AutoScout24\\nAnmelden/Registrieren',\n",
       "  \"CHF 31'400.-\\n2019 / 84'000 Km\",\n",
       "  \"CHF 31'400.-\",\n",
       "  \"2019 / 84'000 Km\",\n",
       "  '',\n",
       "  \"CHF 46'900.-\\n2020 / 38'659 Km\",\n",
       "  \"CHF 46'900.-\",\n",
       "  \"2020 / 38'659 Km\",\n",
       "  '',\n",
       "  \"CHF 39'900.-\\n2020 / 44'600 Km\",\n",
       "  \"CHF 39'900.-\",\n",
       "  \"2020 / 44'600 Km\",\n",
       "  '',\n",
       "  \"CHF 42'500.-\\n2021 / 6'500 Km\",\n",
       "  \"CHF 42'500.-\",\n",
       "  \"2021 / 6'500 Km\",\n",
       "  '',\n",
       "  \"CHF 44'890.-\\n2019 / 18'100 Km\",\n",
       "  \"CHF 44'890.-\",\n",
       "  \"2019 / 18'100 Km\",\n",
       "  '',\n",
       "  \"CHF 74'900.-\\n2022 / 9'700 Km\",\n",
       "  \"CHF 74'900.-\",\n",
       "  \"2022 / 9'700 Km\",\n",
       "  '']]"
      ]
     },
     "execution_count": 7,
     "metadata": {},
     "output_type": "execute_result"
    }
   ],
   "source": [
    "all_data"
   ]
  },
  {
   "cell_type": "code",
   "execution_count": 26,
   "metadata": {},
   "outputs": [
    {
     "data": {
      "text/plain": [
       "'/home/ahmad-mujtaba/Downloads/WebscrapingInstagram-main11222/WebscrapingInstagram-main/images/'"
      ]
     },
     "execution_count": 26,
     "metadata": {},
     "output_type": "execute_result"
    }
   ],
   "source": [
    "import os\n",
    "import wget\n",
    "\n",
    "path = os.getcwd()\n",
    "path = os.path.join(path, \"images/\")\n",
    "\n",
    "# #create the directory\n",
    "# os.mkdir(path)\n",
    "\n",
    "path"
   ]
  },
  {
   "cell_type": "code",
   "execution_count": 27,
   "metadata": {},
   "outputs": [
    {
     "ename": "TypeError",
     "evalue": "cannot use a string pattern on a bytes-like object",
     "output_type": "error",
     "traceback": [
      "\u001b[0;31m---------------------------------------------------------------------------\u001b[0m",
      "\u001b[0;31mTypeError\u001b[0m                                 Traceback (most recent call last)",
      "Cell \u001b[0;32mIn [27], line 3\u001b[0m\n\u001b[1;32m      1\u001b[0m counter \u001b[38;5;241m=\u001b[39m \u001b[38;5;241m0\u001b[39m\n\u001b[1;32m      2\u001b[0m \u001b[38;5;28;01mfor\u001b[39;00m image \u001b[38;5;129;01min\u001b[39;00m images:\n\u001b[0;32m----> 3\u001b[0m     \u001b[43mwget\u001b[49m\u001b[38;5;241;43m.\u001b[39;49m\u001b[43mdownload\u001b[49m\u001b[43m(\u001b[49m\u001b[43mimage\u001b[49m\u001b[43m)\u001b[49m\n\u001b[1;32m      4\u001b[0m     counter \u001b[38;5;241m+\u001b[39m\u001b[38;5;241m=\u001b[39m \u001b[38;5;241m1\u001b[39m\n",
      "File \u001b[0;32m~/Downloads/WebscrapingInstagram-main11222/WebscrapingInstagram-main/venv/lib/python3.8/site-packages/wget.py:526\u001b[0m, in \u001b[0;36mdownload\u001b[0;34m(url, out, bar)\u001b[0m\n\u001b[1;32m    524\u001b[0m \u001b[39melse\u001b[39;00m:\n\u001b[1;32m    525\u001b[0m     binurl \u001b[39m=\u001b[39m url\n\u001b[0;32m--> 526\u001b[0m (tmpfile, headers) \u001b[39m=\u001b[39m ulib\u001b[39m.\u001b[39;49murlretrieve(binurl, tmpfile, callback)\n\u001b[1;32m    527\u001b[0m filename \u001b[39m=\u001b[39m detect_filename(url, out, headers)\n\u001b[1;32m    528\u001b[0m \u001b[39mif\u001b[39;00m outdir:\n",
      "File \u001b[0;32m/usr/lib/python3.8/urllib/request.py:245\u001b[0m, in \u001b[0;36murlretrieve\u001b[0;34m(url, filename, reporthook, data)\u001b[0m\n\u001b[1;32m    229\u001b[0m \u001b[39mdef\u001b[39;00m \u001b[39murlretrieve\u001b[39m(url, filename\u001b[39m=\u001b[39m\u001b[39mNone\u001b[39;00m, reporthook\u001b[39m=\u001b[39m\u001b[39mNone\u001b[39;00m, data\u001b[39m=\u001b[39m\u001b[39mNone\u001b[39;00m):\n\u001b[1;32m    230\u001b[0m     \u001b[39m\"\"\"\u001b[39;00m\n\u001b[1;32m    231\u001b[0m \u001b[39m    Retrieve a URL into a temporary location on disk.\u001b[39;00m\n\u001b[1;32m    232\u001b[0m \n\u001b[0;32m   (...)\u001b[0m\n\u001b[1;32m    243\u001b[0m \u001b[39m    data file as well as the resulting HTTPMessage object.\u001b[39;00m\n\u001b[1;32m    244\u001b[0m \u001b[39m    \"\"\"\u001b[39;00m\n\u001b[0;32m--> 245\u001b[0m     url_type, path \u001b[39m=\u001b[39m _splittype(url)\n\u001b[1;32m    247\u001b[0m     \u001b[39mwith\u001b[39;00m contextlib\u001b[39m.\u001b[39mclosing(urlopen(url, data)) \u001b[39mas\u001b[39;00m fp:\n\u001b[1;32m    248\u001b[0m         headers \u001b[39m=\u001b[39m fp\u001b[39m.\u001b[39minfo()\n",
      "File \u001b[0;32m/usr/lib/python3.8/urllib/parse.py:1028\u001b[0m, in \u001b[0;36m_splittype\u001b[0;34m(url)\u001b[0m\n\u001b[1;32m   1025\u001b[0m \u001b[39mif\u001b[39;00m _typeprog \u001b[39mis\u001b[39;00m \u001b[39mNone\u001b[39;00m:\n\u001b[1;32m   1026\u001b[0m     _typeprog \u001b[39m=\u001b[39m re\u001b[39m.\u001b[39mcompile(\u001b[39m'\u001b[39m\u001b[39m([^/:]+):(.*)\u001b[39m\u001b[39m'\u001b[39m, re\u001b[39m.\u001b[39mDOTALL)\n\u001b[0;32m-> 1028\u001b[0m match \u001b[39m=\u001b[39m _typeprog\u001b[39m.\u001b[39;49mmatch(url)\n\u001b[1;32m   1029\u001b[0m \u001b[39mif\u001b[39;00m match:\n\u001b[1;32m   1030\u001b[0m     scheme, data \u001b[39m=\u001b[39m match\u001b[39m.\u001b[39mgroups()\n",
      "\u001b[0;31mTypeError\u001b[0m: cannot use a string pattern on a bytes-like object"
     ]
    }
   ],
   "source": [
    "counter = 0\n",
    "for image in images:\n",
    "    wget.download(image)\n",
    "    counter += 1"
   ]
  },
  {
   "cell_type": "code",
   "execution_count": null,
   "metadata": {},
   "outputs": [],
   "source": []
  }
 ],
 "metadata": {
  "kernelspec": {
   "display_name": "Python 3.8.10 ('venv': venv)",
   "language": "python",
   "name": "python3"
  },
  "language_info": {
   "codemirror_mode": {
    "name": "ipython",
    "version": 3
   },
   "file_extension": ".py",
   "mimetype": "text/x-python",
   "name": "python",
   "nbconvert_exporter": "python",
   "pygments_lexer": "ipython3",
   "version": "3.8.10"
  },
  "orig_nbformat": 4,
  "vscode": {
   "interpreter": {
    "hash": "05fb3fc1d701e906304c9a0615bfc711789f3c0d611f35e4055bac53642abb75"
   }
  }
 },
 "nbformat": 4,
 "nbformat_minor": 2
}
