{
 "cells": [
  {
   "cell_type": "code",
   "execution_count": 2,
   "metadata": {},
   "outputs": [],
   "source": [
    "from selenium import webdriver\n",
    "from selenium.webdriver.support.ui import Select\n",
    "import time\n",
    "from selenium.webdriver.support.ui import WebDriverWait\n",
    "from selenium.webdriver.support import expected_conditions as EC\n",
    "from selenium.webdriver.common.by import By\n",
    "from webdriver_manager.chrome import ChromeDriverManager\n"
   ]
  },
  {
   "cell_type": "code",
   "execution_count": 3,
   "metadata": {},
   "outputs": [],
   "source": [
    "driver = webdriver.Chrome()\n",
    "\n",
    "driver.get(\"https://www.autoscout24.ch\")\n",
    "\n",
    "# accept the cookies \n",
    "WebDriverWait(driver, 10).until(EC.element_to_be_clickable((By.XPATH,'//*[@id=\"onetrust-accept-btn-handler\"]'))).click()"
   ]
  },
  {
   "cell_type": "code",
   "execution_count": 4,
   "metadata": {},
   "outputs": [],
   "source": [
    "nameCar = Select(driver.find_element(\"id\", \"make\"))\n",
    "time.sleep(2)\n",
    "\n",
    "\n",
    "# yearCar = Select(driver.find_element(\"id\", \"yearfrom\"))\n",
    "# time.sleep(2)\n",
    "\n",
    "# priceRangeCar = Select(driver.find_element(\"id\", \"priceto\"))\n",
    "# time.sleep(2)\n",
    "yearfrom = [1930, 1940, 1950, 1960, 1970, 1975, 1980, 1981, 1982,\n",
    "            1983, 1984, 1985, 1986, 1987, 1988, 1989, 1990, 1991, 1992, 1993, 1994,\n",
    "            1995, 1996, 1997, 1998, 1999, 2000\n",
    "]\n",
    "priceto = [1000, 2000, 3000, 4000, 5000, 7500, 10000, 12500, 15000,\n",
    "            17500, 20000, 22500, 25000, 30000, 40000, 45000, 50000,\n",
    "            60000, 70000, 80000, 90000, 100000, 150000, 200000, 300000]"
   ]
  },
  {
   "cell_type": "code",
   "execution_count": 5,
   "metadata": {},
   "outputs": [],
   "source": [
    "modelCarList = []\n",
    "for name in nameCar.options:\n",
    "    modelCarList.append(name.text)"
   ]
  },
  {
   "cell_type": "code",
   "execution_count": 61,
   "metadata": {},
   "outputs": [
    {
     "name": "stderr",
     "output_type": "stream",
     "text": [
      "/tmp/ipykernel_68713/3300373774.py:1: DeprecationWarning: executable_path has been deprecated, please pass in a Service object\n",
      "  driver = webdriver.Chrome(ChromeDriverManager().install())\n"
     ]
    },
    {
     "name": "stdout",
     "output_type": "stream",
     "text": [
      "1930 ,  1000\n",
      "6\n",
      "BMW 330xd Touring\n",
      "03.2001242'187 km\n",
      "CHF 890.–\n",
      "Kredit: Monatsrate berechnen\n",
      "Versicherungsprämie berechnen\n",
      "-->Autohaus Olten <--\n",
      "4600 Olten\n",
      "Probefahrt\n",
      "BMW 320i Touring\n",
      "10.2003240'000 km\n",
      "CHF 800.–\n",
      "Kredit: Monatsrate berechnen\n",
      "Versicherungsprämie berechnen\n",
      "Auto AZZAM\n",
      "8951 Fahrweid\n",
      "BMW 318i Touring\n",
      "10.2004300'000 km\n",
      "CHF 900.–\n",
      "Kredit: Monatsrate berechnen\n",
      "Versicherungsprämie berechnen\n",
      "Auto Tip Top GmbH\n",
      "4702 Oensingen\n",
      "BMW 320i\n",
      "07.2002281'000 km\n",
      "CHF 1'000.–\n",
      "Kredit: Monatsrate berechnen\n",
      "Versicherungsprämie berechnen\n",
      "Nicolas\n",
      "8134 Adliswil\n",
      "BMW 325i Touring\n",
      "10.2003355'000 km\n",
      "CHF 890.–\n",
      "Kredit: Monatsrate berechnen\n",
      "Versicherungsprämie berechnen\n",
      "Auto Ayad\n",
      "5200 Brugg AG\n",
      "BMW 320d Touring\n",
      "06.2004248'000 km\n",
      "CHF 990.–\n",
      "Kredit: Monatsrate berechnen\n",
      "Versicherungsprämie berechnen\n",
      "AJUOB Automobil\n",
      "8951 Unterengstringen\n",
      "Suchauftrag\n",
      "Diese Suche gratis per Email abonnieren. Suchaufträge können nur gespeichert werden wenn es weniger als 1000 Resultate anzeigt. Es dürfen bis max. 15 Suchaufträge gespeichert werden.\n",
      "Jetzt abonnieren\n",
      "1940 ,  1000\n",
      "6\n",
      "BMW 330xd Touring\n",
      "03.2001242'187 km\n",
      "CHF 890.–\n",
      "Kredit: Monatsrate berechnen\n",
      "Versicherungsprämie berechnen\n",
      "-->Autohaus Olten <--\n",
      "4600 Olten\n",
      "Probefahrt\n",
      "BMW 320i Touring\n",
      "10.2003240'000 km\n",
      "CHF 800.–\n",
      "Kredit: Monatsrate berechnen\n",
      "Versicherungsprämie berechnen\n",
      "Auto AZZAM\n",
      "8951 Fahrweid\n",
      "BMW 318i Touring\n",
      "10.2004300'000 km\n",
      "CHF 900.–\n",
      "Kredit: Monatsrate berechnen\n",
      "Versicherungsprämie berechnen\n",
      "Auto Tip Top GmbH\n",
      "4702 Oensingen\n",
      "BMW 320i\n",
      "07.2002281'000 km\n",
      "CHF 1'000.–\n",
      "Kredit: Monatsrate berechnen\n",
      "Versicherungsprämie berechnen\n",
      "Nicolas\n",
      "8134 Adliswil\n",
      "BMW 325i Touring\n",
      "10.2003355'000 km\n",
      "CHF 890.–\n",
      "Kredit: Monatsrate berechnen\n",
      "Versicherungsprämie berechnen\n",
      "Auto Ayad\n",
      "5200 Brugg AG\n",
      "BMW 320d Touring\n",
      "06.2004248'000 km\n",
      "CHF 990.–\n",
      "Kredit: Monatsrate berechnen\n",
      "Versicherungsprämie berechnen\n",
      "AJUOB Automobil\n",
      "8951 Unterengstringen\n",
      "Suchauftrag\n",
      "Diese Suche gratis per Email abonnieren. Suchaufträge können nur gespeichert werden wenn es weniger als 1000 Resultate anzeigt. Es dürfen bis max. 15 Suchaufträge gespeichert werden.\n",
      "Jetzt abonnieren\n"
     ]
    }
   ],
   "source": [
    "driver = webdriver.Chrome(ChromeDriverManager().install())\n",
    "all_data = []\n",
    "\n",
    "\n",
    "\n",
    "for year in yearfrom[0:2]:\n",
    "    for price in priceto[0:1]:\n",
    "        print(year, \", \", price)\n",
    "        search_url=f\"https://www.autoscout24.ch/de/?yearfrom={year}&priceto={price}&make=9&vehtyp=10\" \n",
    "                \n",
    "        driver.get(search_url.format())\n",
    "        try:\n",
    "            WebDriverWait(driver, 0).until(EC.element_to_be_clickable((By.XPATH,'//*[@id=\"onetrust-accept-btn-handler\"]'))).click()\n",
    "        except:\n",
    "            pass\n",
    "        # driver.execute_script(\"window.scrollTo(0, document.body.scrollHeight);\")\n",
    "        # time.sleep(5)\n",
    "\n",
    "        button = WebDriverWait(driver, 0).until(EC.visibility_of_element_located((By.XPATH, \"//*[@id='app']/div/main/section/div[2]/div/div/div/div[1]/div[1]/section/div[3]/div/div[3]/span/a\")))\n",
    "        numberOfResult, _ = button.text.split(\" \")\n",
    "        print(numberOfResult)\n",
    "        WebDriverWait(driver, 0).until(EC.visibility_of_element_located((By.XPATH, \"//*[@id='app']/div/main/section/div[2]/div/div/div/div[1]/div[1]/section/div[3]/div/div[3]/span/a\"))).click()\n",
    "        \n",
    "        \n",
    "        sam = WebDriverWait(driver, 20).until(EC.visibility_of_element_located((By.XPATH, '//*[@id=\"app\"]/div/main/section/div/div/div/div/div[3]/div[2]')))\n",
    "        print(sam.text)\n",
    "        all_data.append(sam.text)\n",
    "        \n",
    "        # images = [image.text for image in text]\n",
    "\n",
    "\n",
    "        # all_data.append(images)\n",
    "        # print('Number of scraped images: ', images)\n",
    "    "
   ]
  },
  {
   "cell_type": "code",
   "execution_count": 62,
   "metadata": {},
   "outputs": [
    {
     "data": {
      "text/plain": [
       "[\"BMW 330xd Touring\\n03.2001242'187 km\\nCHF 890.–\\nKredit: Monatsrate berechnen\\nVersicherungsprämie berechnen\\n-->Autohaus Olten <--\\n4600 Olten\\nProbefahrt\\nBMW 320i Touring\\n10.2003240'000 km\\nCHF 800.–\\nKredit: Monatsrate berechnen\\nVersicherungsprämie berechnen\\nAuto AZZAM\\n8951 Fahrweid\\nBMW 318i Touring\\n10.2004300'000 km\\nCHF 900.–\\nKredit: Monatsrate berechnen\\nVersicherungsprämie berechnen\\nAuto Tip Top GmbH\\n4702 Oensingen\\nBMW 320i\\n07.2002281'000 km\\nCHF 1'000.–\\nKredit: Monatsrate berechnen\\nVersicherungsprämie berechnen\\nNicolas\\n8134 Adliswil\\nBMW 325i Touring\\n10.2003355'000 km\\nCHF 890.–\\nKredit: Monatsrate berechnen\\nVersicherungsprämie berechnen\\nAuto Ayad\\n5200 Brugg AG\\nBMW 320d Touring\\n06.2004248'000 km\\nCHF 990.–\\nKredit: Monatsrate berechnen\\nVersicherungsprämie berechnen\\nAJUOB Automobil\\n8951 Unterengstringen\\nSuchauftrag\\nDiese Suche gratis per Email abonnieren. Suchaufträge können nur gespeichert werden wenn es weniger als 1000 Resultate anzeigt. Es dürfen bis max. 15 Suchaufträge gespeichert werden.\\nJetzt abonnieren\",\n",
       " \"BMW 330xd Touring\\n03.2001242'187 km\\nCHF 890.–\\nKredit: Monatsrate berechnen\\nVersicherungsprämie berechnen\\n-->Autohaus Olten <--\\n4600 Olten\\nProbefahrt\\nBMW 320i Touring\\n10.2003240'000 km\\nCHF 800.–\\nKredit: Monatsrate berechnen\\nVersicherungsprämie berechnen\\nAuto AZZAM\\n8951 Fahrweid\\nBMW 318i Touring\\n10.2004300'000 km\\nCHF 900.–\\nKredit: Monatsrate berechnen\\nVersicherungsprämie berechnen\\nAuto Tip Top GmbH\\n4702 Oensingen\\nBMW 320i\\n07.2002281'000 km\\nCHF 1'000.–\\nKredit: Monatsrate berechnen\\nVersicherungsprämie berechnen\\nNicolas\\n8134 Adliswil\\nBMW 325i Touring\\n10.2003355'000 km\\nCHF 890.–\\nKredit: Monatsrate berechnen\\nVersicherungsprämie berechnen\\nAuto Ayad\\n5200 Brugg AG\\nBMW 320d Touring\\n06.2004248'000 km\\nCHF 990.–\\nKredit: Monatsrate berechnen\\nVersicherungsprämie berechnen\\nAJUOB Automobil\\n8951 Unterengstringen\\nSuchauftrag\\nDiese Suche gratis per Email abonnieren. Suchaufträge können nur gespeichert werden wenn es weniger als 1000 Resultate anzeigt. Es dürfen bis max. 15 Suchaufträge gespeichert werden.\\nJetzt abonnieren\"]"
      ]
     },
     "execution_count": 62,
     "metadata": {},
     "output_type": "execute_result"
    }
   ],
   "source": [
    "all_data"
   ]
  },
  {
   "cell_type": "code",
   "execution_count": 70,
   "metadata": {},
   "outputs": [
    {
     "name": "stdout",
     "output_type": "stream",
     "text": [
      "['BMW 330xd Touring', \"03.2001242'187 km\", 'CHF 890.–', 'Kredit: Monatsrate berechnen', 'Versicherungsprämie berechnen', '-->Autohaus Olten <--', '4600 Olten', 'Probefahrt', 'BMW 320i Touring', \"10.2003240'000 km\", 'CHF 800.–', 'Kredit: Monatsrate berechnen', 'Versicherungsprämie berechnen', 'Auto AZZAM', '8951 Fahrweid', 'BMW 318i Touring', \"10.2004300'000 km\", 'CHF 900.–', 'Kredit: Monatsrate berechnen', 'Versicherungsprämie berechnen', 'Auto Tip Top GmbH', '4702 Oensingen', 'BMW 320i', \"07.2002281'000 km\", \"CHF 1'000.–\", 'Kredit: Monatsrate berechnen', 'Versicherungsprämie berechnen', 'Nicolas', '8134 Adliswil', 'BMW 325i Touring', \"10.2003355'000 km\", 'CHF 890.–', 'Kredit: Monatsrate berechnen', 'Versicherungsprämie berechnen', 'Auto Ayad', '5200 Brugg AG', 'BMW 320d Touring', \"06.2004248'000 km\", 'CHF 990.–', 'Kredit: Monatsrate berechnen', 'Versicherungsprämie berechnen', 'AJUOB Automobil', '8951 Unterengstringen', 'Suchauftrag', 'Diese Suche gratis per Email abonnieren. Suchaufträge können nur gespeichert werden wenn es weniger als 1000 Resultate anzeigt. Es dürfen bis max. 15 Suchaufträge gespeichert werden.', 'Jetzt abonnieren'] \n",
      "\n",
      "\n",
      "BMW 330xd Touring\n",
      "4600 Olten\n",
      "Versicherungsprämie berechnen\n",
      "Kredit: Monatsrate berechnen\n",
      "CHF 1'000.–\n",
      "10.2003355'000 km\n",
      "BMW 320d Touring\n",
      "8951 Unterengstringen\n",
      "['BMW 330xd Touring', \"03.2001242'187 km\", 'CHF 890.–', 'Kredit: Monatsrate berechnen', 'Versicherungsprämie berechnen', '-->Autohaus Olten <--', '4600 Olten', 'Probefahrt', 'BMW 320i Touring', \"10.2003240'000 km\", 'CHF 800.–', 'Kredit: Monatsrate berechnen', 'Versicherungsprämie berechnen', 'Auto AZZAM', '8951 Fahrweid', 'BMW 318i Touring', \"10.2004300'000 km\", 'CHF 900.–', 'Kredit: Monatsrate berechnen', 'Versicherungsprämie berechnen', 'Auto Tip Top GmbH', '4702 Oensingen', 'BMW 320i', \"07.2002281'000 km\", \"CHF 1'000.–\", 'Kredit: Monatsrate berechnen', 'Versicherungsprämie berechnen', 'Nicolas', '8134 Adliswil', 'BMW 325i Touring', \"10.2003355'000 km\", 'CHF 890.–', 'Kredit: Monatsrate berechnen', 'Versicherungsprämie berechnen', 'Auto Ayad', '5200 Brugg AG', 'BMW 320d Touring', \"06.2004248'000 km\", 'CHF 990.–', 'Kredit: Monatsrate berechnen', 'Versicherungsprämie berechnen', 'AJUOB Automobil', '8951 Unterengstringen', 'Suchauftrag', 'Diese Suche gratis per Email abonnieren. Suchaufträge können nur gespeichert werden wenn es weniger als 1000 Resultate anzeigt. Es dürfen bis max. 15 Suchaufträge gespeichert werden.', 'Jetzt abonnieren'] \n",
      "\n",
      "\n",
      "BMW 330xd Touring\n",
      "4600 Olten\n",
      "Versicherungsprämie berechnen\n",
      "Kredit: Monatsrate berechnen\n",
      "CHF 1'000.–\n",
      "10.2003355'000 km\n",
      "BMW 320d Touring\n",
      "8951 Unterengstringen\n"
     ]
    }
   ],
   "source": [
    "for data in all_data:\n",
    "    split_data = data.split(\"\\n\")\n",
    "    print(split_data, \"\\n\\n\")\n",
    "    for i in range(0, len(split_data), 6):\n",
    "        print(split_data[i])"
   ]
  },
  {
   "cell_type": "code",
   "execution_count": null,
   "metadata": {},
   "outputs": [],
   "source": []
  },
  {
   "cell_type": "code",
   "execution_count": null,
   "metadata": {},
   "outputs": [],
   "source": []
  },
  {
   "cell_type": "code",
   "execution_count": null,
   "metadata": {},
   "outputs": [],
   "source": []
  }
 ],
 "metadata": {
  "kernelspec": {
   "display_name": "Python 3.8.10 ('venv': venv)",
   "language": "python",
   "name": "python3"
  },
  "language_info": {
   "codemirror_mode": {
    "name": "ipython",
    "version": 3
   },
   "file_extension": ".py",
   "mimetype": "text/x-python",
   "name": "python",
   "nbconvert_exporter": "python",
   "pygments_lexer": "ipython3",
   "version": "3.8.10"
  },
  "vscode": {
   "interpreter": {
    "hash": "05fb3fc1d701e906304c9a0615bfc711789f3c0d611f35e4055bac53642abb75"
   }
  }
 },
 "nbformat": 4,
 "nbformat_minor": 4
}
